{
 "cells": [
  {
   "cell_type": "code",
   "execution_count": 1,
   "metadata": {},
   "outputs": [
    {
     "name": "stdout",
     "output_type": "stream",
     "text": [
      "Populating the interactive namespace from numpy and matplotlib\n"
     ]
    }
   ],
   "source": [
    "%pylab inline\n",
    "plt.style.use(\"bmh\")"
   ]
  },
  {
   "cell_type": "code",
   "execution_count": 2,
   "metadata": {},
   "outputs": [],
   "source": [
    "import pathlib\n",
    "import pandas as pd\n",
    "\n",
    "from sklearn.metrics import classification_report, f1_score\n",
    "from sklearn.model_selection import StratifiedShuffleSplit\n",
    "from sklearn.ensemble import RandomForestClassifier\n",
    "from sklearn.linear_model import LogisticRegression"
   ]
  },
  {
   "cell_type": "code",
   "execution_count": 3,
   "metadata": {},
   "outputs": [],
   "source": [
    "from tqdm import tqdm\n",
    "tqdm.pandas()"
   ]
  },
  {
   "cell_type": "code",
   "execution_count": 4,
   "metadata": {},
   "outputs": [],
   "source": [
    "RS = 7345"
   ]
  },
  {
   "cell_type": "markdown",
   "metadata": {},
   "source": [
    "# Загрузка данных"
   ]
  },
  {
   "cell_type": "code",
   "execution_count": 5,
   "metadata": {},
   "outputs": [],
   "source": [
    "DATA_DIR = pathlib.Path(\"data\")"
   ]
  },
  {
   "cell_type": "code",
   "execution_count": 6,
   "metadata": {},
   "outputs": [
    {
     "name": "stdout",
     "output_type": "stream",
     "text": [
      "CPU times: user 410 ms, sys: 81.9 ms, total: 492 ms\n",
      "Wall time: 492 ms\n"
     ]
    }
   ],
   "source": [
    "%%time\n",
    "\n",
    "train, test = [\n",
    "    pd.read_csv(DATA_DIR.joinpath(filename), index_col=\"pair_id\")\n",
    "    for filename in (\n",
    "        \"train.csv\",\n",
    "        \"test.csv\",\n",
    "    ) \n",
    "]"
   ]
  },
  {
   "cell_type": "code",
   "execution_count": 7,
   "metadata": {},
   "outputs": [
    {
     "data": {
      "text/html": [
       "<div>\n",
       "<style scoped>\n",
       "    .dataframe tbody tr th:only-of-type {\n",
       "        vertical-align: middle;\n",
       "    }\n",
       "\n",
       "    .dataframe tbody tr th {\n",
       "        vertical-align: top;\n",
       "    }\n",
       "\n",
       "    .dataframe thead th {\n",
       "        text-align: right;\n",
       "    }\n",
       "</style>\n",
       "<table border=\"1\" class=\"dataframe\">\n",
       "  <thead>\n",
       "    <tr style=\"text-align: right;\">\n",
       "      <th></th>\n",
       "      <th>name_1</th>\n",
       "      <th>name_2</th>\n",
       "      <th>is_duplicate</th>\n",
       "    </tr>\n",
       "    <tr>\n",
       "      <th>pair_id</th>\n",
       "      <th></th>\n",
       "      <th></th>\n",
       "      <th></th>\n",
       "    </tr>\n",
       "  </thead>\n",
       "  <tbody>\n",
       "    <tr>\n",
       "      <th>1</th>\n",
       "      <td>Iko Industries Ltd.</td>\n",
       "      <td>Enormous Industrial Trade Pvt., Ltd.</td>\n",
       "      <td>0</td>\n",
       "    </tr>\n",
       "    <tr>\n",
       "      <th>2</th>\n",
       "      <td>Apcotex Industries Ltd.</td>\n",
       "      <td>Technocraft Industries (India) Ltd.</td>\n",
       "      <td>0</td>\n",
       "    </tr>\n",
       "    <tr>\n",
       "      <th>3</th>\n",
       "      <td>Rishichem Distributors Pvt., Ltd.</td>\n",
       "      <td>Dsa</td>\n",
       "      <td>0</td>\n",
       "    </tr>\n",
       "    <tr>\n",
       "      <th>4</th>\n",
       "      <td>Powermax Rubber Factory</td>\n",
       "      <td>Co. One</td>\n",
       "      <td>0</td>\n",
       "    </tr>\n",
       "    <tr>\n",
       "      <th>5</th>\n",
       "      <td>Tress A/S</td>\n",
       "      <td>Longyou Industries Park Zhejiang</td>\n",
       "      <td>0</td>\n",
       "    </tr>\n",
       "  </tbody>\n",
       "</table>\n",
       "</div>"
      ],
      "text/plain": [
       "                                    name_1  \\\n",
       "pair_id                                      \n",
       "1                      Iko Industries Ltd.   \n",
       "2                  Apcotex Industries Ltd.   \n",
       "3        Rishichem Distributors Pvt., Ltd.   \n",
       "4                  Powermax Rubber Factory   \n",
       "5                                Tress A/S   \n",
       "\n",
       "                                       name_2  is_duplicate  \n",
       "pair_id                                                      \n",
       "1        Enormous Industrial Trade Pvt., Ltd.             0  \n",
       "2         Technocraft Industries (India) Ltd.             0  \n",
       "3                                         Dsa             0  \n",
       "4                                     Co. One             0  \n",
       "5            Longyou Industries Park Zhejiang             0  "
      ]
     },
     "execution_count": 7,
     "metadata": {},
     "output_type": "execute_result"
    }
   ],
   "source": [
    "train.head()"
   ]
  },
  {
   "cell_type": "code",
   "execution_count": 8,
   "metadata": {},
   "outputs": [
    {
     "data": {
      "text/html": [
       "<div>\n",
       "<style scoped>\n",
       "    .dataframe tbody tr th:only-of-type {\n",
       "        vertical-align: middle;\n",
       "    }\n",
       "\n",
       "    .dataframe tbody tr th {\n",
       "        vertical-align: top;\n",
       "    }\n",
       "\n",
       "    .dataframe thead th {\n",
       "        text-align: right;\n",
       "    }\n",
       "</style>\n",
       "<table border=\"1\" class=\"dataframe\">\n",
       "  <thead>\n",
       "    <tr style=\"text-align: right;\">\n",
       "      <th></th>\n",
       "      <th>name_1</th>\n",
       "      <th>name_2</th>\n",
       "    </tr>\n",
       "    <tr>\n",
       "      <th>pair_id</th>\n",
       "      <th></th>\n",
       "      <th></th>\n",
       "    </tr>\n",
       "  </thead>\n",
       "  <tbody>\n",
       "    <tr>\n",
       "      <th>1</th>\n",
       "      <td>Sun Blinds Decoration Inc.</td>\n",
       "      <td>Indl De Cuautitlan Sa Cv</td>\n",
       "    </tr>\n",
       "    <tr>\n",
       "      <th>2</th>\n",
       "      <td>Eih Ltd.</td>\n",
       "      <td>Dongguan Wei Shi Plastic Product Co., Ltd.</td>\n",
       "    </tr>\n",
       "    <tr>\n",
       "      <th>3</th>\n",
       "      <td>Jsh Ltd. (Hk)</td>\n",
       "      <td>Arab Shipbuilding And Repair Yard C</td>\n",
       "    </tr>\n",
       "    <tr>\n",
       "      <th>4</th>\n",
       "      <td>Better Industrial Ltd.</td>\n",
       "      <td>Farmacap Industria E Comercio Ltda</td>\n",
       "    </tr>\n",
       "    <tr>\n",
       "      <th>5</th>\n",
       "      <td>Equipos Inoxidables Del Norte Sa De Cv</td>\n",
       "      <td>Bel Inc.</td>\n",
       "    </tr>\n",
       "  </tbody>\n",
       "</table>\n",
       "</div>"
      ],
      "text/plain": [
       "                                         name_1  \\\n",
       "pair_id                                           \n",
       "1                    Sun Blinds Decoration Inc.   \n",
       "2                                      Eih Ltd.   \n",
       "3                                 Jsh Ltd. (Hk)   \n",
       "4                        Better Industrial Ltd.   \n",
       "5        Equipos Inoxidables Del Norte Sa De Cv   \n",
       "\n",
       "                                             name_2  \n",
       "pair_id                                              \n",
       "1                          Indl De Cuautitlan Sa Cv  \n",
       "2        Dongguan Wei Shi Plastic Product Co., Ltd.  \n",
       "3               Arab Shipbuilding And Repair Yard C  \n",
       "4                Farmacap Industria E Comercio Ltda  \n",
       "5                                          Bel Inc.  "
      ]
     },
     "execution_count": 8,
     "metadata": {},
     "output_type": "execute_result"
    }
   ],
   "source": [
    "test.head()"
   ]
  },
  {
   "cell_type": "code",
   "execution_count": 9,
   "metadata": {},
   "outputs": [
    {
     "name": "stdout",
     "output_type": "stream",
     "text": [
      "<class 'pandas.core.frame.DataFrame'>\n",
      "Int64Index: 497819 entries, 1 to 497819\n",
      "Data columns (total 3 columns):\n",
      " #   Column        Non-Null Count   Dtype \n",
      "---  ------        --------------   ----- \n",
      " 0   name_1        497819 non-null  object\n",
      " 1   name_2        497819 non-null  object\n",
      " 2   is_duplicate  497819 non-null  int64 \n",
      "dtypes: int64(1), object(2)\n",
      "memory usage: 15.2+ MB\n"
     ]
    }
   ],
   "source": [
    "train.info()"
   ]
  },
  {
   "cell_type": "code",
   "execution_count": 10,
   "metadata": {},
   "outputs": [
    {
     "name": "stdout",
     "output_type": "stream",
     "text": [
      "<class 'pandas.core.frame.DataFrame'>\n",
      "Int64Index: 213249 entries, 1 to 213249\n",
      "Data columns (total 2 columns):\n",
      " #   Column  Non-Null Count   Dtype \n",
      "---  ------  --------------   ----- \n",
      " 0   name_1  213249 non-null  object\n",
      " 1   name_2  213249 non-null  object\n",
      "dtypes: object(2)\n",
      "memory usage: 4.9+ MB\n"
     ]
    }
   ],
   "source": [
    "test.info()"
   ]
  },
  {
   "cell_type": "markdown",
   "metadata": {},
   "source": [
    "# Статистика таргета"
   ]
  },
  {
   "cell_type": "code",
   "execution_count": 11,
   "metadata": {},
   "outputs": [
    {
     "data": {
      "text/plain": [
       "0    494161\n",
       "1      3658\n",
       "Name: is_duplicate, dtype: int64"
      ]
     },
     "execution_count": 11,
     "metadata": {},
     "output_type": "execute_result"
    }
   ],
   "source": [
    "train.is_duplicate.value_counts()"
   ]
  },
  {
   "cell_type": "code",
   "execution_count": 12,
   "metadata": {},
   "outputs": [
    {
     "data": {
      "text/html": [
       "<div>\n",
       "<style scoped>\n",
       "    .dataframe tbody tr th:only-of-type {\n",
       "        vertical-align: middle;\n",
       "    }\n",
       "\n",
       "    .dataframe tbody tr th {\n",
       "        vertical-align: top;\n",
       "    }\n",
       "\n",
       "    .dataframe thead th {\n",
       "        text-align: right;\n",
       "    }\n",
       "</style>\n",
       "<table border=\"1\" class=\"dataframe\">\n",
       "  <thead>\n",
       "    <tr style=\"text-align: right;\">\n",
       "      <th></th>\n",
       "      <th>name_1</th>\n",
       "      <th>name_2</th>\n",
       "      <th>is_duplicate</th>\n",
       "    </tr>\n",
       "    <tr>\n",
       "      <th>pair_id</th>\n",
       "      <th></th>\n",
       "      <th></th>\n",
       "      <th></th>\n",
       "    </tr>\n",
       "  </thead>\n",
       "  <tbody>\n",
       "    <tr>\n",
       "      <th>28404</th>\n",
       "      <td>Azienda Generale Italiana Petroli</td>\n",
       "      <td>AGIP  ( ENI GROUP)</td>\n",
       "      <td>1</td>\n",
       "    </tr>\n",
       "    <tr>\n",
       "      <th>480711</th>\n",
       "      <td>Contitech Transportbandsysteme Gmb H</td>\n",
       "      <td>Contitech Usa Inc.</td>\n",
       "      <td>1</td>\n",
       "    </tr>\n",
       "    <tr>\n",
       "      <th>97617</th>\n",
       "      <td>Bridgestone Tire Co.</td>\n",
       "      <td>Bridgestone Do Brasil Industria &amp; Comercio Ltda</td>\n",
       "      <td>1</td>\n",
       "    </tr>\n",
       "    <tr>\n",
       "      <th>253978</th>\n",
       "      <td>Bridgestone Firestone De Argentina Saic</td>\n",
       "      <td>Bridgestone Tire</td>\n",
       "      <td>1</td>\n",
       "    </tr>\n",
       "    <tr>\n",
       "      <th>388901</th>\n",
       "      <td>Yokohama Corp. Of North Ameri</td>\n",
       "      <td>Yokohama Tyre</td>\n",
       "      <td>1</td>\n",
       "    </tr>\n",
       "    <tr>\n",
       "      <th>298340</th>\n",
       "      <td>SOPREMA S.A.S.</td>\n",
       "      <td>Soprema sas</td>\n",
       "      <td>1</td>\n",
       "    </tr>\n",
       "    <tr>\n",
       "      <th>386384</th>\n",
       "      <td>Exxonmobil Chemical Americas On</td>\n",
       "      <td>Exxonmobil Chemical Co. Baytown Chemical Plant</td>\n",
       "      <td>1</td>\n",
       "    </tr>\n",
       "    <tr>\n",
       "      <th>18736</th>\n",
       "      <td>Bridgestone India Automotive</td>\n",
       "      <td>Bridgestone Stargard Sp Zoo</td>\n",
       "      <td>1</td>\n",
       "    </tr>\n",
       "    <tr>\n",
       "      <th>164901</th>\n",
       "      <td>Ryohin Keikaku Reliance India Private Ltd.</td>\n",
       "      <td>Reliance Clothing India Private Ltd.</td>\n",
       "      <td>1</td>\n",
       "    </tr>\n",
       "    <tr>\n",
       "      <th>366026</th>\n",
       "      <td>Bridgestone India</td>\n",
       "      <td>Bridgestone International Group</td>\n",
       "      <td>1</td>\n",
       "    </tr>\n",
       "    <tr>\n",
       "      <th>255221</th>\n",
       "      <td>KILDAIR SERVICES</td>\n",
       "      <td>Kildair Service, Ltd.</td>\n",
       "      <td>1</td>\n",
       "    </tr>\n",
       "    <tr>\n",
       "      <th>147012</th>\n",
       "      <td>Hansa Flex Usa</td>\n",
       "      <td>Planika Flex D.O.O</td>\n",
       "      <td>1</td>\n",
       "    </tr>\n",
       "    <tr>\n",
       "      <th>352421</th>\n",
       "      <td>Michelin Siam Co., Ltd.</td>\n",
       "      <td>Michelin Group</td>\n",
       "      <td>1</td>\n",
       "    </tr>\n",
       "    <tr>\n",
       "      <th>438074</th>\n",
       "      <td>Hansa Flex Usa</td>\n",
       "      <td>K Flex Usa</td>\n",
       "      <td>1</td>\n",
       "    </tr>\n",
       "    <tr>\n",
       "      <th>193719</th>\n",
       "      <td>Zeon Belts Private Ltd.</td>\n",
       "      <td>Zeon Corporation</td>\n",
       "      <td>1</td>\n",
       "    </tr>\n",
       "  </tbody>\n",
       "</table>\n",
       "</div>"
      ],
      "text/plain": [
       "                                             name_1  \\\n",
       "pair_id                                               \n",
       "28404             Azienda Generale Italiana Petroli   \n",
       "480711         Contitech Transportbandsysteme Gmb H   \n",
       "97617                          Bridgestone Tire Co.   \n",
       "253978      Bridgestone Firestone De Argentina Saic   \n",
       "388901                Yokohama Corp. Of North Ameri   \n",
       "298340                               SOPREMA S.A.S.   \n",
       "386384              Exxonmobil Chemical Americas On   \n",
       "18736                  Bridgestone India Automotive   \n",
       "164901   Ryohin Keikaku Reliance India Private Ltd.   \n",
       "366026                            Bridgestone India   \n",
       "255221                             KILDAIR SERVICES   \n",
       "147012                               Hansa Flex Usa   \n",
       "352421                      Michelin Siam Co., Ltd.   \n",
       "438074                               Hansa Flex Usa   \n",
       "193719                      Zeon Belts Private Ltd.   \n",
       "\n",
       "                                                  name_2  is_duplicate  \n",
       "pair_id                                                                 \n",
       "28404                                 AGIP  ( ENI GROUP)             1  \n",
       "480711                                Contitech Usa Inc.             1  \n",
       "97617    Bridgestone Do Brasil Industria & Comercio Ltda             1  \n",
       "253978                                  Bridgestone Tire             1  \n",
       "388901                                     Yokohama Tyre             1  \n",
       "298340                                       Soprema sas             1  \n",
       "386384    Exxonmobil Chemical Co. Baytown Chemical Plant             1  \n",
       "18736                        Bridgestone Stargard Sp Zoo             1  \n",
       "164901              Reliance Clothing India Private Ltd.             1  \n",
       "366026                   Bridgestone International Group             1  \n",
       "255221                             Kildair Service, Ltd.             1  \n",
       "147012                                Planika Flex D.O.O             1  \n",
       "352421                                    Michelin Group             1  \n",
       "438074                                        K Flex Usa             1  \n",
       "193719                                  Zeon Corporation             1  "
      ]
     },
     "execution_count": 12,
     "metadata": {},
     "output_type": "execute_result"
    }
   ],
   "source": [
    "train[train.is_duplicate==1].sample(15)"
   ]
  },
  {
   "cell_type": "code",
   "execution_count": 13,
   "metadata": {},
   "outputs": [
    {
     "data": {
      "text/html": [
       "<div>\n",
       "<style scoped>\n",
       "    .dataframe tbody tr th:only-of-type {\n",
       "        vertical-align: middle;\n",
       "    }\n",
       "\n",
       "    .dataframe tbody tr th {\n",
       "        vertical-align: top;\n",
       "    }\n",
       "\n",
       "    .dataframe thead th {\n",
       "        text-align: right;\n",
       "    }\n",
       "</style>\n",
       "<table border=\"1\" class=\"dataframe\">\n",
       "  <thead>\n",
       "    <tr style=\"text-align: right;\">\n",
       "      <th></th>\n",
       "      <th>name_1</th>\n",
       "      <th>name_2</th>\n",
       "      <th>is_duplicate</th>\n",
       "    </tr>\n",
       "    <tr>\n",
       "      <th>pair_id</th>\n",
       "      <th></th>\n",
       "      <th></th>\n",
       "      <th></th>\n",
       "    </tr>\n",
       "  </thead>\n",
       "  <tbody>\n",
       "    <tr>\n",
       "      <th>263797</th>\n",
       "      <td>Eia Co., Ltd.</td>\n",
       "      <td>Toyoda Gosei Rubber Mexico S. A. De C. V.</td>\n",
       "      <td>0</td>\n",
       "    </tr>\n",
       "    <tr>\n",
       "      <th>424524</th>\n",
       "      <td>P.L.</td>\n",
       "      <td>S.S. Imp. &amp; Exp.</td>\n",
       "      <td>0</td>\n",
       "    </tr>\n",
       "    <tr>\n",
       "      <th>190822</th>\n",
       "      <td>Pantos Logistics</td>\n",
       "      <td>Master Shipping Logistica International Ltda Epp</td>\n",
       "      <td>0</td>\n",
       "    </tr>\n",
       "    <tr>\n",
       "      <th>492416</th>\n",
       "      <td>Lg Electronics Usa Inc1000 Sylvan</td>\n",
       "      <td>Guangyao Electronics &amp; Plastics (Shenzhen) Co....</td>\n",
       "      <td>0</td>\n",
       "    </tr>\n",
       "    <tr>\n",
       "      <th>440466</th>\n",
       "      <td>Sumitomo Industrias Pesadas Do Brasil Ltda</td>\n",
       "      <td>I.B. International</td>\n",
       "      <td>0</td>\n",
       "    </tr>\n",
       "    <tr>\n",
       "      <th>275383</th>\n",
       "      <td>Al Tec International</td>\n",
       "      <td>Agco To Medical Technology (Pinghu) Co., Ltd.</td>\n",
       "      <td>0</td>\n",
       "    </tr>\n",
       "    <tr>\n",
       "      <th>44388</th>\n",
       "      <td>Kinder Co. (Pty) ) Ltd.</td>\n",
       "      <td>Starco Internation Co.</td>\n",
       "      <td>0</td>\n",
       "    </tr>\n",
       "    <tr>\n",
       "      <th>320376</th>\n",
       "      <td>Yigang Logistics Co., Ltd.</td>\n",
       "      <td>Sirius Global Logistics</td>\n",
       "      <td>0</td>\n",
       "    </tr>\n",
       "    <tr>\n",
       "      <th>96465</th>\n",
       "      <td>Ide Technologies Ltd.</td>\n",
       "      <td>Nanjing Leitz Metalworking Technology Co., Ltd.</td>\n",
       "      <td>0</td>\n",
       "    </tr>\n",
       "    <tr>\n",
       "      <th>184042</th>\n",
       "      <td>Cpg</td>\n",
       "      <td>Ctps Precision Steel Sa De Cv</td>\n",
       "      <td>0</td>\n",
       "    </tr>\n",
       "    <tr>\n",
       "      <th>368341</th>\n",
       "      <td>Comexport Trading Comercio Exterior Ltda</td>\n",
       "      <td>Chien Top Trading Co., Ltd.</td>\n",
       "      <td>0</td>\n",
       "    </tr>\n",
       "    <tr>\n",
       "      <th>52943</th>\n",
       "      <td>Wells Fargo Bank</td>\n",
       "      <td>Bva Inc.</td>\n",
       "      <td>0</td>\n",
       "    </tr>\n",
       "    <tr>\n",
       "      <th>97484</th>\n",
       "      <td>Taikisha Engineering India Private Ltd.</td>\n",
       "      <td>Bando India Private Ltd.</td>\n",
       "      <td>0</td>\n",
       "    </tr>\n",
       "    <tr>\n",
       "      <th>26032</th>\n",
       "      <td>Login Logistic Group</td>\n",
       "      <td>Kl Logistics Corp. 263 E. Redondo</td>\n",
       "      <td>0</td>\n",
       "    </tr>\n",
       "    <tr>\n",
       "      <th>477919</th>\n",
       "      <td>Packages Ltd.</td>\n",
       "      <td>Ternes Packaging</td>\n",
       "      <td>0</td>\n",
       "    </tr>\n",
       "  </tbody>\n",
       "</table>\n",
       "</div>"
      ],
      "text/plain": [
       "                                             name_1  \\\n",
       "pair_id                                               \n",
       "263797                                Eia Co., Ltd.   \n",
       "424524                                         P.L.   \n",
       "190822                             Pantos Logistics   \n",
       "492416            Lg Electronics Usa Inc1000 Sylvan   \n",
       "440466   Sumitomo Industrias Pesadas Do Brasil Ltda   \n",
       "275383                         Al Tec International   \n",
       "44388                       Kinder Co. (Pty) ) Ltd.   \n",
       "320376                   Yigang Logistics Co., Ltd.   \n",
       "96465                         Ide Technologies Ltd.   \n",
       "184042                                          Cpg   \n",
       "368341     Comexport Trading Comercio Exterior Ltda   \n",
       "52943                              Wells Fargo Bank   \n",
       "97484       Taikisha Engineering India Private Ltd.   \n",
       "26032                          Login Logistic Group   \n",
       "477919                                Packages Ltd.   \n",
       "\n",
       "                                                    name_2  is_duplicate  \n",
       "pair_id                                                                   \n",
       "263797           Toyoda Gosei Rubber Mexico S. A. De C. V.             0  \n",
       "424524                                    S.S. Imp. & Exp.             0  \n",
       "190822    Master Shipping Logistica International Ltda Epp             0  \n",
       "492416   Guangyao Electronics & Plastics (Shenzhen) Co....             0  \n",
       "440466                                  I.B. International             0  \n",
       "275383       Agco To Medical Technology (Pinghu) Co., Ltd.             0  \n",
       "44388                               Starco Internation Co.             0  \n",
       "320376                             Sirius Global Logistics             0  \n",
       "96465      Nanjing Leitz Metalworking Technology Co., Ltd.             0  \n",
       "184042                       Ctps Precision Steel Sa De Cv             0  \n",
       "368341                         Chien Top Trading Co., Ltd.             0  \n",
       "52943                                             Bva Inc.             0  \n",
       "97484                             Bando India Private Ltd.             0  \n",
       "26032                    Kl Logistics Corp. 263 E. Redondo             0  \n",
       "477919                                    Ternes Packaging             0  "
      ]
     },
     "execution_count": 13,
     "metadata": {},
     "output_type": "execute_result"
    }
   ],
   "source": [
    "train[train.is_duplicate==0].sample(15)"
   ]
  },
  {
   "cell_type": "markdown",
   "metadata": {},
   "source": [
    "# Очистка данных"
   ]
  },
  {
   "cell_type": "code",
   "execution_count": 14,
   "metadata": {},
   "outputs": [],
   "source": [
    "import pycountry\n",
    "import re"
   ]
  },
  {
   "cell_type": "code",
   "execution_count": 15,
   "metadata": {},
   "outputs": [
    {
     "name": "stdout",
     "output_type": "stream",
     "text": [
      "CPU times: user 433 ms, sys: 55.5 ms, total: 489 ms\n",
      "Wall time: 489 ms\n"
     ]
    }
   ],
   "source": [
    "%%time\n",
    "\n",
    "for dataset in (train, test):\n",
    "    for column in (\"name_1\", 'name_2'):\n",
    "        dataset[column] = dataset[column].str.lower()"
   ]
  },
  {
   "cell_type": "code",
   "execution_count": 16,
   "metadata": {},
   "outputs": [
    {
     "data": {
      "text/html": [
       "<div>\n",
       "<style scoped>\n",
       "    .dataframe tbody tr th:only-of-type {\n",
       "        vertical-align: middle;\n",
       "    }\n",
       "\n",
       "    .dataframe tbody tr th {\n",
       "        vertical-align: top;\n",
       "    }\n",
       "\n",
       "    .dataframe thead th {\n",
       "        text-align: right;\n",
       "    }\n",
       "</style>\n",
       "<table border=\"1\" class=\"dataframe\">\n",
       "  <thead>\n",
       "    <tr style=\"text-align: right;\">\n",
       "      <th></th>\n",
       "      <th>name_1</th>\n",
       "      <th>name_2</th>\n",
       "      <th>is_duplicate</th>\n",
       "    </tr>\n",
       "    <tr>\n",
       "      <th>pair_id</th>\n",
       "      <th></th>\n",
       "      <th></th>\n",
       "      <th></th>\n",
       "    </tr>\n",
       "  </thead>\n",
       "  <tbody>\n",
       "    <tr>\n",
       "      <th>40</th>\n",
       "      <td>isoliererzeugnisse grobrohrsdorf gmbh</td>\n",
       "      <td>total rumunia</td>\n",
       "      <td>0</td>\n",
       "    </tr>\n",
       "    <tr>\n",
       "      <th>410</th>\n",
       "      <td>dortmunder gussasphalt gmbh &amp; co. kg</td>\n",
       "      <td>bitoumina s.a.</td>\n",
       "      <td>0</td>\n",
       "    </tr>\n",
       "    <tr>\n",
       "      <th>440</th>\n",
       "      <td>celanese chemicals europe gmbh</td>\n",
       "      <td>inreco - emulsja sp. z o.o.</td>\n",
       "      <td>0</td>\n",
       "    </tr>\n",
       "    <tr>\n",
       "      <th>583</th>\n",
       "      <td>tremco illbruck group gmbh</td>\n",
       "      <td>wakol gmbh</td>\n",
       "      <td>0</td>\n",
       "    </tr>\n",
       "    <tr>\n",
       "      <th>681</th>\n",
       "      <td>rasco bitumentechnik gmbh</td>\n",
       "      <td>technpvinyl polymers india ltd.</td>\n",
       "      <td>0</td>\n",
       "    </tr>\n",
       "    <tr>\n",
       "      <th>...</th>\n",
       "      <td>...</td>\n",
       "      <td>...</td>\n",
       "      <td>...</td>\n",
       "    </tr>\n",
       "    <tr>\n",
       "      <th>497197</th>\n",
       "      <td>binne &amp; sohn gmbh &amp; co kg</td>\n",
       "      <td>buscher hoffmann</td>\n",
       "      <td>0</td>\n",
       "    </tr>\n",
       "    <tr>\n",
       "      <th>497306</th>\n",
       "      <td>mct gmbh &amp; co. kg</td>\n",
       "      <td>valli zabban</td>\n",
       "      <td>0</td>\n",
       "    </tr>\n",
       "    <tr>\n",
       "      <th>497366</th>\n",
       "      <td>mct misch &amp; compoundier technik gmbh</td>\n",
       "      <td>nknh</td>\n",
       "      <td>0</td>\n",
       "    </tr>\n",
       "    <tr>\n",
       "      <th>497772</th>\n",
       "      <td>saint-gobain isover austria gmbh</td>\n",
       "      <td>soprema soprema sas</td>\n",
       "      <td>0</td>\n",
       "    </tr>\n",
       "    <tr>\n",
       "      <th>497798</th>\n",
       "      <td>famos gmbh &amp; co. kg</td>\n",
       "      <td>soprema drummondville</td>\n",
       "      <td>0</td>\n",
       "    </tr>\n",
       "  </tbody>\n",
       "</table>\n",
       "<p>3382 rows × 3 columns</p>\n",
       "</div>"
      ],
      "text/plain": [
       "                                        name_1  \\\n",
       "pair_id                                          \n",
       "40       isoliererzeugnisse grobrohrsdorf gmbh   \n",
       "410       dortmunder gussasphalt gmbh & co. kg   \n",
       "440             celanese chemicals europe gmbh   \n",
       "583                 tremco illbruck group gmbh   \n",
       "681                  rasco bitumentechnik gmbh   \n",
       "...                                        ...   \n",
       "497197               binne & sohn gmbh & co kg   \n",
       "497306                       mct gmbh & co. kg   \n",
       "497366    mct misch & compoundier technik gmbh   \n",
       "497772        saint-gobain isover austria gmbh   \n",
       "497798                     famos gmbh & co. kg   \n",
       "\n",
       "                                  name_2  is_duplicate  \n",
       "pair_id                                                 \n",
       "40                         total rumunia             0  \n",
       "410                       bitoumina s.a.             0  \n",
       "440          inreco - emulsja sp. z o.o.             0  \n",
       "583                           wakol gmbh             0  \n",
       "681      technpvinyl polymers india ltd.             0  \n",
       "...                                  ...           ...  \n",
       "497197                  buscher hoffmann             0  \n",
       "497306                      valli zabban             0  \n",
       "497366                              nknh             0  \n",
       "497772               soprema soprema sas             0  \n",
       "497798             soprema drummondville             0  \n",
       "\n",
       "[3382 rows x 3 columns]"
      ]
     },
     "execution_count": 16,
     "metadata": {},
     "output_type": "execute_result"
    }
   ],
   "source": [
    "train[train.name_1.str.contains(\"gmbh\")]"
   ]
  },
  {
   "cell_type": "code",
   "execution_count": 17,
   "metadata": {},
   "outputs": [],
   "source": [
    "def multi_str_replace(strings, debug=True):\n",
    "    re_str = r'\\b(?:' + '|'.join(\n",
    "        [re.escape(s) for s in strings]\n",
    "    ) + r')(?!\\S)'\n",
    "    if debug:\n",
    "        print(re_str)\n",
    "    return re.compile(re_str, re.UNICODE)"
   ]
  },
  {
   "cell_type": "code",
   "execution_count": 18,
   "metadata": {},
   "outputs": [
    {
     "name": "stdout",
     "output_type": "stream",
     "text": [
      "\\b(?:ltd\\.|co\\.|inc\\.|b\\.v\\.|s\\.c\\.r\\.l\\.|gmbh|pvt\\.)(?!\\S)\n"
     ]
    },
    {
     "data": {
      "text/plain": [
       "'sibur    <DEL> <DEL> <DEL> inc pvgmbh  <DEL> bova <DEL>'"
      ]
     },
     "execution_count": 18,
     "metadata": {},
     "output_type": "execute_result"
    }
   ],
   "source": [
    "legal_entities = [\"ltd.\", \"co.\", \"inc.\", \"b.v.\", \"s.c.r.l.\", \"gmbh\", \"pvt.\"]\n",
    "legal_re = multi_str_replace([rf\"{entity}\" for entity in legal_entities])\n",
    "\n",
    "t = r'sibur    gmbh inc. gmbh inc pvgmbh  b.v. bova inc.'\n",
    "t = legal_re.sub('<DEL>', t)\n",
    "t"
   ]
  },
  {
   "cell_type": "code",
   "execution_count": 19,
   "metadata": {},
   "outputs": [
    {
     "name": "stdout",
     "output_type": "stream",
     "text": [
      "CPU times: user 2.51 s, sys: 20.3 ms, total: 2.53 s\n",
      "Wall time: 2.53 s\n"
     ]
    }
   ],
   "source": [
    "%%time\n",
    "\n",
    "for dataset in (train, test):\n",
    "    dataset.replace(legal_re, \"$1 $3\", inplace=True)"
   ]
  },
  {
   "cell_type": "code",
   "execution_count": 20,
   "metadata": {},
   "outputs": [
    {
     "name": "stdout",
     "output_type": "stream",
     "text": [
      "CPU times: user 2.14 s, sys: 5.26 ms, total: 2.15 s\n",
      "Wall time: 2.15 s\n"
     ]
    }
   ],
   "source": [
    "%%time\n",
    "\n",
    "for dataset in (train, test):\n",
    "    dataset.replace(re.compile(r\"\\s+\\(.*\\)\"), \"\", inplace=True)"
   ]
  },
  {
   "cell_type": "code",
   "execution_count": 21,
   "metadata": {},
   "outputs": [],
   "source": [
    "import pycountry\n",
    "countries = [country.name.lower() for country in pycountry.countries]"
   ]
  },
  {
   "cell_type": "code",
   "execution_count": 22,
   "metadata": {},
   "outputs": [
    {
     "name": "stdout",
     "output_type": "stream",
     "text": [
      "\\b(?:aruba|afghanistan|angola|anguilla|\\åland\\ islands|albania|andorra|united\\ arab\\ emirates|argentina|armenia|american\\ samoa|antarctica|french\\ southern\\ territories|antigua\\ and\\ barbuda|australia|austria|azerbaijan|burundi|belgium|benin|bonaire\\,\\ sint\\ eustatius\\ and\\ saba|burkina\\ faso|bangladesh|bulgaria|bahrain|bahamas|bosnia\\ and\\ herzegovina|saint\\ barth\\élemy|belarus|belize|bermuda|bolivia\\,\\ plurinational\\ state\\ of|brazil|barbados|brunei\\ darussalam|bhutan|bouvet\\ island|botswana|central\\ african\\ republic|canada|cocos\\ \\(keeling\\)\\ islands|switzerland|chile|china|c\\ôte\\ d\\'ivoire|cameroon|congo\\,\\ the\\ democratic\\ republic\\ of\\ the|congo|cook\\ islands|colombia|comoros|cabo\\ verde|costa\\ rica|cuba|cura\\çao|christmas\\ island|cayman\\ islands|cyprus|czechia|germany|djibouti|dominica|denmark|dominican\\ republic|algeria|ecuador|egypt|eritrea|western\\ sahara|spain|estonia|ethiopia|finland|fiji|falkland\\ islands\\ \\(malvinas\\)|france|faroe\\ islands|micronesia\\,\\ federated\\ states\\ of|gabon|united\\ kingdom|georgia|guernsey|ghana|gibraltar|guinea|guadeloupe|gambia|guinea\\-bissau|equatorial\\ guinea|greece|grenada|greenland|guatemala|french\\ guiana|guam|guyana|hong\\ kong|heard\\ island\\ and\\ mcdonald\\ islands|honduras|croatia|haiti|hungary|indonesia|isle\\ of\\ man|india|british\\ indian\\ ocean\\ territory|ireland|iran\\,\\ islamic\\ republic\\ of|iraq|iceland|israel|italy|jamaica|jersey|jordan|japan|kazakhstan|kenya|kyrgyzstan|cambodia|kiribati|saint\\ kitts\\ and\\ nevis|korea\\,\\ republic\\ of|kuwait|lao\\ people\\'s\\ democratic\\ republic|lebanon|liberia|libya|saint\\ lucia|liechtenstein|sri\\ lanka|lesotho|lithuania|luxembourg|latvia|macao|saint\\ martin\\ \\(french\\ part\\)|morocco|monaco|moldova\\,\\ republic\\ of|madagascar|maldives|mexico|marshall\\ islands|north\\ macedonia|mali|malta|myanmar|montenegro|mongolia|northern\\ mariana\\ islands|mozambique|mauritania|montserrat|martinique|mauritius|malawi|malaysia|mayotte|namibia|new\\ caledonia|niger|norfolk\\ island|nigeria|nicaragua|niue|netherlands|norway|nepal|nauru|new\\ zealand|oman|pakistan|panama|pitcairn|peru|philippines|palau|papua\\ new\\ guinea|poland|puerto\\ rico|korea\\,\\ democratic\\ people\\'s\\ republic\\ of|portugal|paraguay|palestine\\,\\ state\\ of|french\\ polynesia|qatar|r\\éunion|romania|russian\\ federation|rwanda|saudi\\ arabia|sudan|senegal|singapore|south\\ georgia\\ and\\ the\\ south\\ sandwich\\ islands|saint\\ helena\\,\\ ascension\\ and\\ tristan\\ da\\ cunha|svalbard\\ and\\ jan\\ mayen|solomon\\ islands|sierra\\ leone|el\\ salvador|san\\ marino|somalia|saint\\ pierre\\ and\\ miquelon|serbia|south\\ sudan|sao\\ tome\\ and\\ principe|suriname|slovakia|slovenia|sweden|eswatini|sint\\ maarten\\ \\(dutch\\ part\\)|seychelles|syrian\\ arab\\ republic|turks\\ and\\ caicos\\ islands|chad|togo|thailand|tajikistan|tokelau|turkmenistan|timor\\-leste|tonga|trinidad\\ and\\ tobago|tunisia|turkey|tuvalu|taiwan\\,\\ province\\ of\\ china|tanzania\\,\\ united\\ republic\\ of|uganda|ukraine|united\\ states\\ minor\\ outlying\\ islands|uruguay|united\\ states|uzbekistan|holy\\ see\\ \\(vatican\\ city\\ state\\)|saint\\ vincent\\ and\\ the\\ grenadines|venezuela\\,\\ bolivarian\\ republic\\ of|virgin\\ islands\\,\\ british|virgin\\ islands\\,\\ u\\.s\\.|viet\\ nam|vanuatu|wallis\\ and\\ futuna|samoa|yemen|south\\ africa|zambia|zimbabwe)(?!\\S)\n"
     ]
    }
   ],
   "source": [
    "countries_re = multi_str_replace(countries)"
   ]
  },
  {
   "cell_type": "code",
   "execution_count": 23,
   "metadata": {},
   "outputs": [
    {
     "name": "stdout",
     "output_type": "stream",
     "text": [
      "CPU times: user 7.95 s, sys: 33.7 ms, total: 7.98 s\n",
      "Wall time: 8 s\n"
     ]
    }
   ],
   "source": [
    "%%time\n",
    "\n",
    "for dataset in train, test :\n",
    "    dataset.replace(countries_re, \"\", inplace=True)"
   ]
  },
  {
   "cell_type": "code",
   "execution_count": 24,
   "metadata": {},
   "outputs": [
    {
     "name": "stdout",
     "output_type": "stream",
     "text": [
      "CPU times: user 5.42 s, sys: 36.9 ms, total: 5.46 s\n",
      "Wall time: 5.47 s\n"
     ]
    }
   ],
   "source": [
    "%%time\n",
    "\n",
    "for dataset in (train, test):\n",
    "    dataset.replace(re.compile(r\"\\s+\"), \" \", inplace=True)\n",
    "    dataset.replace(re.compile(r\"[^\\w\\s]\"), \"\", inplace=True)"
   ]
  },
  {
   "cell_type": "code",
   "execution_count": 25,
   "metadata": {},
   "outputs": [
    {
     "data": {
      "text/html": [
       "<div>\n",
       "<style scoped>\n",
       "    .dataframe tbody tr th:only-of-type {\n",
       "        vertical-align: middle;\n",
       "    }\n",
       "\n",
       "    .dataframe tbody tr th {\n",
       "        vertical-align: top;\n",
       "    }\n",
       "\n",
       "    .dataframe thead th {\n",
       "        text-align: right;\n",
       "    }\n",
       "</style>\n",
       "<table border=\"1\" class=\"dataframe\">\n",
       "  <thead>\n",
       "    <tr style=\"text-align: right;\">\n",
       "      <th></th>\n",
       "      <th>name_1</th>\n",
       "      <th>name_2</th>\n",
       "      <th>is_duplicate</th>\n",
       "    </tr>\n",
       "    <tr>\n",
       "      <th>pair_id</th>\n",
       "      <th></th>\n",
       "      <th></th>\n",
       "      <th></th>\n",
       "    </tr>\n",
       "  </thead>\n",
       "  <tbody>\n",
       "    <tr>\n",
       "      <th>87840</th>\n",
       "      <td>dongguan oasis plastic products co 1 3</td>\n",
       "      <td>prt 1 3 1 3</td>\n",
       "      <td>0</td>\n",
       "    </tr>\n",
       "    <tr>\n",
       "      <th>427392</th>\n",
       "      <td>reliance paul  shark fashions pvt 1 3</td>\n",
       "      <td>hr international</td>\n",
       "      <td>0</td>\n",
       "    </tr>\n",
       "    <tr>\n",
       "      <th>180334</th>\n",
       "      <td>cook chemical 1 3 1 3</td>\n",
       "      <td>bc</td>\n",
       "      <td>0</td>\n",
       "    </tr>\n",
       "    <tr>\n",
       "      <th>439587</th>\n",
       "      <td>francisco mendi sl</td>\n",
       "      <td>ace international ag</td>\n",
       "      <td>0</td>\n",
       "    </tr>\n",
       "    <tr>\n",
       "      <th>347451</th>\n",
       "      <td>s r international</td>\n",
       "      <td>htl logistics pvt 1 3</td>\n",
       "      <td>0</td>\n",
       "    </tr>\n",
       "    <tr>\n",
       "      <th>446946</th>\n",
       "      <td>seblico sociedad por acciones simplificada</td>\n",
       "      <td>lianda corporation</td>\n",
       "      <td>0</td>\n",
       "    </tr>\n",
       "    <tr>\n",
       "      <th>308962</th>\n",
       "      <td>armacell llc conover plant</td>\n",
       "      <td>jama corporation pvt 1 3</td>\n",
       "      <td>0</td>\n",
       "    </tr>\n",
       "    <tr>\n",
       "      <th>231007</th>\n",
       "      <td>khalid al dagal trading est</td>\n",
       "      <td>focha trading l l c</td>\n",
       "      <td>0</td>\n",
       "    </tr>\n",
       "    <tr>\n",
       "      <th>407038</th>\n",
       "      <td>mason industries</td>\n",
       "      <td>qingdao gw chemical industrial co 1 3</td>\n",
       "      <td>0</td>\n",
       "    </tr>\n",
       "    <tr>\n",
       "      <th>388827</th>\n",
       "      <td>vd</td>\n",
       "      <td>shoppers den 1 3</td>\n",
       "      <td>0</td>\n",
       "    </tr>\n",
       "    <tr>\n",
       "      <th>155867</th>\n",
       "      <td>dsa</td>\n",
       "      <td>shenzhen hastech industries co 1 3</td>\n",
       "      <td>0</td>\n",
       "    </tr>\n",
       "    <tr>\n",
       "      <th>136403</th>\n",
       "      <td>shanghai oasis international trading co 1 3</td>\n",
       "      <td>shanghai shunyun international trade co 1 3</td>\n",
       "      <td>0</td>\n",
       "    </tr>\n",
       "    <tr>\n",
       "      <th>301633</th>\n",
       "      <td>sylvia and jangjoo group of compani</td>\n",
       "      <td>pf group sa</td>\n",
       "      <td>0</td>\n",
       "    </tr>\n",
       "    <tr>\n",
       "      <th>495692</th>\n",
       "      <td>mti llc</td>\n",
       "      <td>inditex trent retail private 1 3</td>\n",
       "      <td>0</td>\n",
       "    </tr>\n",
       "    <tr>\n",
       "      <th>281169</th>\n",
       "      <td>puersheng plastics technology co 1 3</td>\n",
       "      <td>n j international 1 3</td>\n",
       "      <td>0</td>\n",
       "    </tr>\n",
       "    <tr>\n",
       "      <th>411365</th>\n",
       "      <td>olam international 1 3</td>\n",
       "      <td>ningbo lanling steel industrial co  1 3</td>\n",
       "      <td>0</td>\n",
       "    </tr>\n",
       "    <tr>\n",
       "      <th>16015</th>\n",
       "      <td>cd logistics co 1 3</td>\n",
       "      <td>acs international sa de cv</td>\n",
       "      <td>0</td>\n",
       "    </tr>\n",
       "    <tr>\n",
       "      <th>389178</th>\n",
       "      <td>shanghai jijin logistics co 1 3</td>\n",
       "      <td>comisa logistics sc</td>\n",
       "      <td>0</td>\n",
       "    </tr>\n",
       "    <tr>\n",
       "      <th>81916</th>\n",
       "      <td>sadaf trading 1 3</td>\n",
       "      <td>longli grand international trading co 1 3</td>\n",
       "      <td>0</td>\n",
       "    </tr>\n",
       "    <tr>\n",
       "      <th>368237</th>\n",
       "      <td>allchem industries</td>\n",
       "      <td>global rubber industries 1 3</td>\n",
       "      <td>0</td>\n",
       "    </tr>\n",
       "    <tr>\n",
       "      <th>43835</th>\n",
       "      <td>bitbau dörr</td>\n",
       "      <td>soprema grobbendonk</td>\n",
       "      <td>0</td>\n",
       "    </tr>\n",
       "    <tr>\n",
       "      <th>216640</th>\n",
       "      <td>geodis wilson group</td>\n",
       "      <td>gemo</td>\n",
       "      <td>0</td>\n",
       "    </tr>\n",
       "    <tr>\n",
       "      <th>102540</th>\n",
       "      <td>pam sp a</td>\n",
       "      <td>kram uy srl</td>\n",
       "      <td>0</td>\n",
       "    </tr>\n",
       "    <tr>\n",
       "      <th>294600</th>\n",
       "      <td>mir international co 1 3</td>\n",
       "      <td>dubai islamic bank</td>\n",
       "      <td>0</td>\n",
       "    </tr>\n",
       "    <tr>\n",
       "      <th>40191</th>\n",
       "      <td>tag corporation</td>\n",
       "      <td>pharma tap sa de cv</td>\n",
       "      <td>0</td>\n",
       "    </tr>\n",
       "  </tbody>\n",
       "</table>\n",
       "</div>"
      ],
      "text/plain": [
       "                                              name_1  \\\n",
       "pair_id                                                \n",
       "87840         dongguan oasis plastic products co 1 3   \n",
       "427392         reliance paul  shark fashions pvt 1 3   \n",
       "180334                         cook chemical 1 3 1 3   \n",
       "439587                            francisco mendi sl   \n",
       "347451                             s r international   \n",
       "446946    seblico sociedad por acciones simplificada   \n",
       "308962                    armacell llc conover plant   \n",
       "231007                   khalid al dagal trading est   \n",
       "407038                              mason industries   \n",
       "388827                                            vd   \n",
       "155867                                           dsa   \n",
       "136403   shanghai oasis international trading co 1 3   \n",
       "301633           sylvia and jangjoo group of compani   \n",
       "495692                                       mti llc   \n",
       "281169          puersheng plastics technology co 1 3   \n",
       "411365                        olam international 1 3   \n",
       "16015                            cd logistics co 1 3   \n",
       "389178               shanghai jijin logistics co 1 3   \n",
       "81916                              sadaf trading 1 3   \n",
       "368237                            allchem industries   \n",
       "43835                                    bitbau dörr   \n",
       "216640                           geodis wilson group   \n",
       "102540                                      pam sp a   \n",
       "294600                      mir international co 1 3   \n",
       "40191                                tag corporation   \n",
       "\n",
       "                                              name_2  is_duplicate  \n",
       "pair_id                                                             \n",
       "87840                                    prt 1 3 1 3             0  \n",
       "427392                              hr international             0  \n",
       "180334                                            bc             0  \n",
       "439587                          ace international ag             0  \n",
       "347451                         htl logistics pvt 1 3             0  \n",
       "446946                            lianda corporation             0  \n",
       "308962                      jama corporation pvt 1 3             0  \n",
       "231007                           focha trading l l c             0  \n",
       "407038         qingdao gw chemical industrial co 1 3             0  \n",
       "388827                              shoppers den 1 3             0  \n",
       "155867            shenzhen hastech industries co 1 3             0  \n",
       "136403   shanghai shunyun international trade co 1 3             0  \n",
       "301633                                   pf group sa             0  \n",
       "495692              inditex trent retail private 1 3             0  \n",
       "281169                         n j international 1 3             0  \n",
       "411365       ningbo lanling steel industrial co  1 3             0  \n",
       "16015                     acs international sa de cv             0  \n",
       "389178                           comisa logistics sc             0  \n",
       "81916      longli grand international trading co 1 3             0  \n",
       "368237                  global rubber industries 1 3             0  \n",
       "43835                            soprema grobbendonk             0  \n",
       "216640                                          gemo             0  \n",
       "102540                                   kram uy srl             0  \n",
       "294600                            dubai islamic bank             0  \n",
       "40191                            pharma tap sa de cv             0  "
      ]
     },
     "execution_count": 25,
     "metadata": {},
     "output_type": "execute_result"
    }
   ],
   "source": [
    "train.sample(25)"
   ]
  },
  {
   "cell_type": "code",
   "execution_count": 26,
   "metadata": {},
   "outputs": [
    {
     "data": {
      "text/html": [
       "<div>\n",
       "<style scoped>\n",
       "    .dataframe tbody tr th:only-of-type {\n",
       "        vertical-align: middle;\n",
       "    }\n",
       "\n",
       "    .dataframe tbody tr th {\n",
       "        vertical-align: top;\n",
       "    }\n",
       "\n",
       "    .dataframe thead th {\n",
       "        text-align: right;\n",
       "    }\n",
       "</style>\n",
       "<table border=\"1\" class=\"dataframe\">\n",
       "  <thead>\n",
       "    <tr style=\"text-align: right;\">\n",
       "      <th></th>\n",
       "      <th>name_1</th>\n",
       "      <th>name_2</th>\n",
       "    </tr>\n",
       "    <tr>\n",
       "      <th>pair_id</th>\n",
       "      <th></th>\n",
       "      <th></th>\n",
       "    </tr>\n",
       "  </thead>\n",
       "  <tbody>\n",
       "    <tr>\n",
       "      <th>158460</th>\n",
       "      <td>ranyal industries 1 3</td>\n",
       "      <td>m industria sa de cv</td>\n",
       "    </tr>\n",
       "    <tr>\n",
       "      <th>34198</th>\n",
       "      <td>tk precision plastics 1 3</td>\n",
       "      <td>llc plasteks</td>\n",
       "    </tr>\n",
       "    <tr>\n",
       "      <th>9891</th>\n",
       "      <td>johnson controls air conditioning equipment co...</td>\n",
       "      <td>cnr international 1 3</td>\n",
       "    </tr>\n",
       "    <tr>\n",
       "      <th>19895</th>\n",
       "      <td>wacker chemical corporation</td>\n",
       "      <td>qingdao jinxian chemicals co 1 3</td>\n",
       "    </tr>\n",
       "    <tr>\n",
       "      <th>46041</th>\n",
       "      <td>wa international</td>\n",
       "      <td>fawad traders</td>\n",
       "    </tr>\n",
       "    <tr>\n",
       "      <th>9677</th>\n",
       "      <td>bochem sp z oo zakłady chemiczne</td>\n",
       "      <td>rompetrol rafinare sa</td>\n",
       "    </tr>\n",
       "    <tr>\n",
       "      <th>192632</th>\n",
       "      <td>a j enterprises</td>\n",
       "      <td>hanif enterprises</td>\n",
       "    </tr>\n",
       "    <tr>\n",
       "      <th>150989</th>\n",
       "      <td>tempe sa</td>\n",
       "      <td>teamplay trading enterprieses cc</td>\n",
       "    </tr>\n",
       "    <tr>\n",
       "      <th>55404</th>\n",
       "      <td>nalco 1 3</td>\n",
       "      <td>kriska</td>\n",
       "    </tr>\n",
       "    <tr>\n",
       "      <th>93999</th>\n",
       "      <td>isover saintgobain</td>\n",
       "      <td>total polska sp z oo</td>\n",
       "    </tr>\n",
       "    <tr>\n",
       "      <th>110153</th>\n",
       "      <td>self industries</td>\n",
       "      <td>formiline industria de laminados ltda</td>\n",
       "    </tr>\n",
       "    <tr>\n",
       "      <th>146852</th>\n",
       "      <td>ram</td>\n",
       "      <td>manufacturas victor gaskets de s a</td>\n",
       "    </tr>\n",
       "    <tr>\n",
       "      <th>203045</th>\n",
       "      <td>mti llc</td>\n",
       "      <td>metso sa</td>\n",
       "    </tr>\n",
       "    <tr>\n",
       "      <th>20</th>\n",
       "      <td>omv aktiengesellschaft</td>\n",
       "      <td>soprema castellbisbal</td>\n",
       "    </tr>\n",
       "    <tr>\n",
       "      <th>70233</th>\n",
       "      <td>manufacturas y procesos</td>\n",
       "      <td>c trans srl</td>\n",
       "    </tr>\n",
       "    <tr>\n",
       "      <th>61306</th>\n",
       "      <td>dsv air sea 1 3 dba dsv ocean</td>\n",
       "      <td>asa international</td>\n",
       "    </tr>\n",
       "    <tr>\n",
       "      <th>78729</th>\n",
       "      <td>ankara inşaat</td>\n",
       "      <td>danis yapi madencilik sanayi ve ticaret anonim...</td>\n",
       "    </tr>\n",
       "    <tr>\n",
       "      <th>210113</th>\n",
       "      <td>infinite cr strips industries 1 3</td>\n",
       "      <td>apar industries 1 3</td>\n",
       "    </tr>\n",
       "    <tr>\n",
       "      <th>82439</th>\n",
       "      <td>throwdown industries holdings llc</td>\n",
       "      <td>jus international 1 3</td>\n",
       "    </tr>\n",
       "    <tr>\n",
       "      <th>174298</th>\n",
       "      <td>eurovia czechy</td>\n",
       "      <td>probigalp  ligantes betuminosos sa</td>\n",
       "    </tr>\n",
       "    <tr>\n",
       "      <th>87732</th>\n",
       "      <td>summit global</td>\n",
       "      <td>mt global freight solutions 1 3</td>\n",
       "    </tr>\n",
       "    <tr>\n",
       "      <th>212726</th>\n",
       "      <td>rover technology co 1 3</td>\n",
       "      <td>ajover sa</td>\n",
       "    </tr>\n",
       "    <tr>\n",
       "      <th>42378</th>\n",
       "      <td>service industries 1 3</td>\n",
       "      <td>afton chemical industria de aditivos ltda</td>\n",
       "    </tr>\n",
       "    <tr>\n",
       "      <th>75366</th>\n",
       "      <td>qingdao international trade co 1 3</td>\n",
       "      <td>rointrade</td>\n",
       "    </tr>\n",
       "    <tr>\n",
       "      <th>43797</th>\n",
       "      <td>lanxess</td>\n",
       "      <td>saba adhesives  sealants</td>\n",
       "    </tr>\n",
       "  </tbody>\n",
       "</table>\n",
       "</div>"
      ],
      "text/plain": [
       "                                                    name_1  \\\n",
       "pair_id                                                      \n",
       "158460                               ranyal industries 1 3   \n",
       "34198                            tk precision plastics 1 3   \n",
       "9891     johnson controls air conditioning equipment co...   \n",
       "19895                          wacker chemical corporation   \n",
       "46041                                     wa international   \n",
       "9677                      bochem sp z oo zakłady chemiczne   \n",
       "192632                                     a j enterprises   \n",
       "150989                                            tempe sa   \n",
       "55404                                            nalco 1 3   \n",
       "93999                                   isover saintgobain   \n",
       "110153                                     self industries   \n",
       "146852                                                 ram   \n",
       "203045                                             mti llc   \n",
       "20                                  omv aktiengesellschaft   \n",
       "70233                              manufacturas y procesos   \n",
       "61306                        dsv air sea 1 3 dba dsv ocean   \n",
       "78729                                       ankara inşaat    \n",
       "210113                   infinite cr strips industries 1 3   \n",
       "82439                    throwdown industries holdings llc   \n",
       "174298                                      eurovia czechy   \n",
       "87732                                        summit global   \n",
       "212726                             rover technology co 1 3   \n",
       "42378                               service industries 1 3   \n",
       "75366                   qingdao international trade co 1 3   \n",
       "43797                                             lanxess    \n",
       "\n",
       "                                                    name_2  \n",
       "pair_id                                                     \n",
       "158460                                m industria sa de cv  \n",
       "34198                                         llc plasteks  \n",
       "9891                                 cnr international 1 3  \n",
       "19895                     qingdao jinxian chemicals co 1 3  \n",
       "46041                                        fawad traders  \n",
       "9677                                 rompetrol rafinare sa  \n",
       "192632                                   hanif enterprises  \n",
       "150989                    teamplay trading enterprieses cc  \n",
       "55404                                               kriska  \n",
       "93999                                 total polska sp z oo  \n",
       "110153               formiline industria de laminados ltda  \n",
       "146852                  manufacturas victor gaskets de s a  \n",
       "203045                                            metso sa  \n",
       "20                                   soprema castellbisbal  \n",
       "70233                                          c trans srl  \n",
       "61306                                    asa international  \n",
       "78729    danis yapi madencilik sanayi ve ticaret anonim...  \n",
       "210113                                 apar industries 1 3  \n",
       "82439                                jus international 1 3  \n",
       "174298                  probigalp  ligantes betuminosos sa  \n",
       "87732                      mt global freight solutions 1 3  \n",
       "212726                                           ajover sa  \n",
       "42378            afton chemical industria de aditivos ltda  \n",
       "75366                                            rointrade  \n",
       "43797                             saba adhesives  sealants  "
      ]
     },
     "execution_count": 26,
     "metadata": {},
     "output_type": "execute_result"
    }
   ],
   "source": [
    "test.sample(25)"
   ]
  },
  {
   "cell_type": "markdown",
   "metadata": {},
   "source": [
    "# Простые метрики сходства строк"
   ]
  },
  {
   "cell_type": "code",
   "execution_count": 27,
   "metadata": {},
   "outputs": [],
   "source": [
    "from strsimpy.levenshtein import Levenshtein\n",
    "from strsimpy.normalized_levenshtein import NormalizedLevenshtein"
   ]
  },
  {
   "cell_type": "code",
   "execution_count": 28,
   "metadata": {},
   "outputs": [],
   "source": [
    "from joblib import Parallel, delayed\n",
    "import numpy as np\n",
    "\n",
    "\n",
    "def levenshtein_apply(levenshtein_flavor, rows):\n",
    "    levenshtein = levenshtein_flavor()\n",
    "    levenshtein_distance = np.vectorize(levenshtein.distance)\n",
    "    \n",
    "    distances = levenshtein_distance(rows[:, 0], rows[:, 1])\n",
    "    \n",
    "    return distances\n",
    "\n",
    "\n",
    "def chunker(seq, size):\n",
    "    return (seq[pos:pos + size] for pos in range(0, len(seq), size))\n",
    "\n",
    "\n",
    "def levenshtein_batch(rows, levenshtein_flavor, n_jobs=8, batch=10000):\n",
    "    distances = Parallel(n_jobs=n_jobs)(\n",
    "        delayed(levenshtein_apply)(levenshtein_flavor, chunk) \n",
    "        for chunk in tqdm(\n",
    "            chunker(rows[['name_1', 'name_2']].values, batch),\n",
    "            total=rows.shape[0] // batch,\n",
    "        )\n",
    "    )\n",
    "\n",
    "    return np.concatenate(distances)"
   ]
  },
  {
   "cell_type": "code",
   "execution_count": 29,
   "metadata": {},
   "outputs": [
    {
     "name": "stderr",
     "output_type": "stream",
     "text": [
      "50it [00:11,  4.42it/s]                        \n",
      "22it [00:02, 10.85it/s]                        \n"
     ]
    },
    {
     "name": "stdout",
     "output_type": "stream",
     "text": [
      "CPU times: user 871 ms, sys: 251 ms, total: 1.12 s\n",
      "Wall time: 22.3 s\n"
     ]
    }
   ],
   "source": [
    "%%time\n",
    "\n",
    "for dataset in (train, test):\n",
    "    dataset[\"levenstein\"] = levenshtein_batch(dataset, levenshtein_flavor=Levenshtein)"
   ]
  },
  {
   "cell_type": "code",
   "execution_count": 30,
   "metadata": {},
   "outputs": [
    {
     "name": "stderr",
     "output_type": "stream",
     "text": [
      "50it [00:09,  5.15it/s]                        \n",
      "22it [00:01, 11.18it/s]                        \n"
     ]
    },
    {
     "name": "stdout",
     "output_type": "stream",
     "text": [
      "CPU times: user 735 ms, sys: 172 ms, total: 907 ms\n",
      "Wall time: 20.6 s\n"
     ]
    }
   ],
   "source": [
    "%%time\n",
    "\n",
    "for dataset in (train, test):\n",
    "    dataset[\"norm_levenstein\"] = levenshtein_batch(dataset, levenshtein_flavor=NormalizedLevenshtein)"
   ]
  },
  {
   "cell_type": "code",
   "execution_count": 31,
   "metadata": {},
   "outputs": [
    {
     "data": {
      "text/html": [
       "<div>\n",
       "<style scoped>\n",
       "    .dataframe tbody tr th:only-of-type {\n",
       "        vertical-align: middle;\n",
       "    }\n",
       "\n",
       "    .dataframe tbody tr th {\n",
       "        vertical-align: top;\n",
       "    }\n",
       "\n",
       "    .dataframe thead th {\n",
       "        text-align: right;\n",
       "    }\n",
       "</style>\n",
       "<table border=\"1\" class=\"dataframe\">\n",
       "  <thead>\n",
       "    <tr style=\"text-align: right;\">\n",
       "      <th></th>\n",
       "      <th>name_1</th>\n",
       "      <th>name_2</th>\n",
       "      <th>is_duplicate</th>\n",
       "      <th>levenstein</th>\n",
       "      <th>norm_levenstein</th>\n",
       "    </tr>\n",
       "    <tr>\n",
       "      <th>pair_id</th>\n",
       "      <th></th>\n",
       "      <th></th>\n",
       "      <th></th>\n",
       "      <th></th>\n",
       "      <th></th>\n",
       "    </tr>\n",
       "  </thead>\n",
       "  <tbody>\n",
       "    <tr>\n",
       "      <th>1</th>\n",
       "      <td>iko industries 1 3</td>\n",
       "      <td>enormous industrial trade pvt 1 3</td>\n",
       "      <td>0</td>\n",
       "      <td>18</td>\n",
       "      <td>0.545455</td>\n",
       "    </tr>\n",
       "    <tr>\n",
       "      <th>2</th>\n",
       "      <td>apcotex industries 1 3</td>\n",
       "      <td>technocraft industries 1 3</td>\n",
       "      <td>0</td>\n",
       "      <td>9</td>\n",
       "      <td>0.346154</td>\n",
       "    </tr>\n",
       "    <tr>\n",
       "      <th>3</th>\n",
       "      <td>rishichem distributors pvt 1 3</td>\n",
       "      <td>dsa</td>\n",
       "      <td>0</td>\n",
       "      <td>28</td>\n",
       "      <td>0.933333</td>\n",
       "    </tr>\n",
       "    <tr>\n",
       "      <th>4</th>\n",
       "      <td>powermax rubber factory</td>\n",
       "      <td>1 3 one</td>\n",
       "      <td>0</td>\n",
       "      <td>20</td>\n",
       "      <td>0.869565</td>\n",
       "    </tr>\n",
       "    <tr>\n",
       "      <th>5</th>\n",
       "      <td>tress as</td>\n",
       "      <td>longyou industries park zhejiang</td>\n",
       "      <td>0</td>\n",
       "      <td>26</td>\n",
       "      <td>0.812500</td>\n",
       "    </tr>\n",
       "  </tbody>\n",
       "</table>\n",
       "</div>"
      ],
      "text/plain": [
       "                                 name_1                             name_2  \\\n",
       "pair_id                                                                      \n",
       "1                    iko industries 1 3  enormous industrial trade pvt 1 3   \n",
       "2                apcotex industries 1 3         technocraft industries 1 3   \n",
       "3        rishichem distributors pvt 1 3                                dsa   \n",
       "4               powermax rubber factory                            1 3 one   \n",
       "5                              tress as   longyou industries park zhejiang   \n",
       "\n",
       "         is_duplicate  levenstein  norm_levenstein  \n",
       "pair_id                                             \n",
       "1                   0          18         0.545455  \n",
       "2                   0           9         0.346154  \n",
       "3                   0          28         0.933333  \n",
       "4                   0          20         0.869565  \n",
       "5                   0          26         0.812500  "
      ]
     },
     "execution_count": 31,
     "metadata": {},
     "output_type": "execute_result"
    }
   ],
   "source": [
    "train.head()"
   ]
  },
  {
   "cell_type": "code",
   "execution_count": 32,
   "metadata": {},
   "outputs": [
    {
     "data": {
      "text/html": [
       "<div>\n",
       "<style scoped>\n",
       "    .dataframe tbody tr th:only-of-type {\n",
       "        vertical-align: middle;\n",
       "    }\n",
       "\n",
       "    .dataframe tbody tr th {\n",
       "        vertical-align: top;\n",
       "    }\n",
       "\n",
       "    .dataframe thead th {\n",
       "        text-align: right;\n",
       "    }\n",
       "</style>\n",
       "<table border=\"1\" class=\"dataframe\">\n",
       "  <thead>\n",
       "    <tr style=\"text-align: right;\">\n",
       "      <th></th>\n",
       "      <th>name_1</th>\n",
       "      <th>name_2</th>\n",
       "      <th>levenstein</th>\n",
       "      <th>norm_levenstein</th>\n",
       "    </tr>\n",
       "    <tr>\n",
       "      <th>pair_id</th>\n",
       "      <th></th>\n",
       "      <th></th>\n",
       "      <th></th>\n",
       "      <th></th>\n",
       "    </tr>\n",
       "  </thead>\n",
       "  <tbody>\n",
       "    <tr>\n",
       "      <th>1</th>\n",
       "      <td>sun blinds decoration 1 3</td>\n",
       "      <td>indl de cuautitlan sa cv</td>\n",
       "      <td>18</td>\n",
       "      <td>0.720000</td>\n",
       "    </tr>\n",
       "    <tr>\n",
       "      <th>2</th>\n",
       "      <td>eih 1 3</td>\n",
       "      <td>dongguan wei shi plastic product co 1 3</td>\n",
       "      <td>32</td>\n",
       "      <td>0.820513</td>\n",
       "    </tr>\n",
       "    <tr>\n",
       "      <th>3</th>\n",
       "      <td>jsh 1 3</td>\n",
       "      <td>arab shipbuilding and repair yard c</td>\n",
       "      <td>31</td>\n",
       "      <td>0.885714</td>\n",
       "    </tr>\n",
       "    <tr>\n",
       "      <th>4</th>\n",
       "      <td>better industrial 1 3</td>\n",
       "      <td>farmacap industria e comercio ltda</td>\n",
       "      <td>22</td>\n",
       "      <td>0.647059</td>\n",
       "    </tr>\n",
       "    <tr>\n",
       "      <th>5</th>\n",
       "      <td>equipos inoxidables del norte sa de cv</td>\n",
       "      <td>bel 1 3</td>\n",
       "      <td>33</td>\n",
       "      <td>0.868421</td>\n",
       "    </tr>\n",
       "  </tbody>\n",
       "</table>\n",
       "</div>"
      ],
      "text/plain": [
       "                                         name_1  \\\n",
       "pair_id                                           \n",
       "1                     sun blinds decoration 1 3   \n",
       "2                                       eih 1 3   \n",
       "3                                       jsh 1 3   \n",
       "4                         better industrial 1 3   \n",
       "5        equipos inoxidables del norte sa de cv   \n",
       "\n",
       "                                          name_2  levenstein  norm_levenstein  \n",
       "pair_id                                                                        \n",
       "1                       indl de cuautitlan sa cv          18         0.720000  \n",
       "2        dongguan wei shi plastic product co 1 3          32         0.820513  \n",
       "3            arab shipbuilding and repair yard c          31         0.885714  \n",
       "4             farmacap industria e comercio ltda          22         0.647059  \n",
       "5                                        bel 1 3          33         0.868421  "
      ]
     },
     "execution_count": 32,
     "metadata": {},
     "output_type": "execute_result"
    }
   ],
   "source": [
    "test.head()"
   ]
  },
  {
   "cell_type": "code",
   "execution_count": 33,
   "metadata": {},
   "outputs": [
    {
     "data": {
      "image/png": "[encoded data removed]",
      "text/plain": [
       "<Figure size 432x432 with 1 Axes>"
      ]
     },
     "metadata": {
      "needs_background": "light"
     },
     "output_type": "display_data"
    }
   ],
   "source": [
    "plt.figure(figsize=(6,6))\n",
    "\n",
    "train.boxplot(\"levenstein\", by=\"is_duplicate\", ax=plt.gca())\n",
    "plt.suptitle(\"\")\n",
    "plt.title(\"Levenstein  distance\", fontsize=12);"
   ]
  },
  {
   "cell_type": "code",
   "execution_count": 34,
   "metadata": {},
   "outputs": [
    {
     "data": {
      "image/png": "[encoded data removed]",
      "text/plain": [
       "<Figure size 432x432 with 1 Axes>"
      ]
     },
     "metadata": {
      "needs_background": "light"
     },
     "output_type": "display_data"
    }
   ],
   "source": [
    "plt.figure(figsize=(6,6))\n",
    "\n",
    "train.boxplot(\"norm_levenstein\", by=\"is_duplicate\", ax=plt.gca())\n",
    "plt.suptitle(\"\")\n",
    "plt.title(\"Normalized levenstein  distance\", fontsize=12);"
   ]
  },
  {
   "cell_type": "markdown",
   "metadata": {},
   "source": [
    "# Базовая модель"
   ]
  },
  {
   "cell_type": "code",
   "execution_count": 35,
   "metadata": {},
   "outputs": [],
   "source": [
    "FTS = [\"levenstein\", \"norm_levenstein\"]\n",
    "THR = 0.9"
   ]
  },
  {
   "cell_type": "code",
   "execution_count": 36,
   "metadata": {},
   "outputs": [],
   "source": [
    "split = StratifiedShuffleSplit(1, train_size=0.8, random_state=RS)\n",
    "tridx, cvidx = list(split.split(train[FTS], train[\"is_duplicate\"]))[0]"
   ]
  },
  {
   "cell_type": "code",
   "execution_count": 37,
   "metadata": {},
   "outputs": [
    {
     "name": "stdout",
     "output_type": "stream",
     "text": [
      "CPU times: user 37.5 s, sys: 1min 26s, total: 2min 3s\n",
      "Wall time: 2.34 s\n"
     ]
    }
   ],
   "source": [
    "%%time\n",
    "\n",
    "model = LogisticRegression(class_weight=\"balanced\")\n",
    "model.fit(train.iloc[tridx][FTS].values,\n",
    "          train.iloc[tridx][\"is_duplicate\"].values)"
   ]
  },
  {
   "cell_type": "code",
   "execution_count": 38,
   "metadata": {},
   "outputs": [
    {
     "name": "stdout",
     "output_type": "stream",
     "text": [
      "CPU times: user 3.52 s, sys: 8.48 s, total: 12 s\n",
      "Wall time: 217 ms\n"
     ]
    }
   ],
   "source": [
    "%%time\n",
    "\n",
    "tr_preds = model.predict_proba(train.iloc[tridx][FTS].values)\n",
    "cv_preds = model.predict_proba(train.iloc[cvidx][FTS].values)"
   ]
  },
  {
   "cell_type": "code",
   "execution_count": 39,
   "metadata": {},
   "outputs": [],
   "source": [
    "tr_preds = (tr_preds[:, 1] > THR).astype(np.int)\n",
    "cv_preds = (cv_preds[:, 1] > THR).astype(np.int)"
   ]
  },
  {
   "cell_type": "code",
   "execution_count": 40,
   "metadata": {},
   "outputs": [
    {
     "name": "stdout",
     "output_type": "stream",
     "text": [
      "              precision    recall  f1-score   support\n",
      "\n",
      "           0       0.99      0.99      0.99    395329\n",
      "           1       0.13      0.13      0.13      2926\n",
      "\n",
      "    accuracy                           0.99    398255\n",
      "   macro avg       0.56      0.56      0.56    398255\n",
      "weighted avg       0.99      0.99      0.99    398255\n",
      "\n"
     ]
    }
   ],
   "source": [
    "print(classification_report(train.iloc[tridx][\"is_duplicate\"].values, tr_preds))"
   ]
  },
  {
   "cell_type": "code",
   "execution_count": 41,
   "metadata": {},
   "outputs": [
    {
     "name": "stdout",
     "output_type": "stream",
     "text": [
      "              precision    recall  f1-score   support\n",
      "\n",
      "           0       0.99      0.99      0.99     98832\n",
      "           1       0.13      0.14      0.14       732\n",
      "\n",
      "    accuracy                           0.99     99564\n",
      "   macro avg       0.56      0.57      0.57     99564\n",
      "weighted avg       0.99      0.99      0.99     99564\n",
      "\n"
     ]
    }
   ],
   "source": [
    "print(classification_report(train.iloc[cvidx][\"is_duplicate\"].values, cv_preds))"
   ]
  },
  {
   "cell_type": "code",
   "execution_count": 42,
   "metadata": {},
   "outputs": [
    {
     "name": "stdout",
     "output_type": "stream",
     "text": [
      "0.12904301433811272\n",
      "0.13700470114170582\n"
     ]
    }
   ],
   "source": [
    "print(f1_score(train.iloc[tridx][\"is_duplicate\"].values, tr_preds))\n",
    "print(f1_score(train.iloc[cvidx][\"is_duplicate\"].values, cv_preds))"
   ]
  },
  {
   "cell_type": "markdown",
   "metadata": {},
   "source": [
    "# Генерация сабмита"
   ]
  },
  {
   "cell_type": "code",
   "execution_count": 43,
   "metadata": {},
   "outputs": [],
   "source": [
    "sample_sub = pd.read_csv(DATA_DIR.joinpath(\"sample_submission.csv\"), index_col=\"pair_id\")"
   ]
  },
  {
   "cell_type": "code",
   "execution_count": 44,
   "metadata": {},
   "outputs": [
    {
     "data": {
      "text/html": [
       "<div>\n",
       "<style scoped>\n",
       "    .dataframe tbody tr th:only-of-type {\n",
       "        vertical-align: middle;\n",
       "    }\n",
       "\n",
       "    .dataframe tbody tr th {\n",
       "        vertical-align: top;\n",
       "    }\n",
       "\n",
       "    .dataframe thead th {\n",
       "        text-align: right;\n",
       "    }\n",
       "</style>\n",
       "<table border=\"1\" class=\"dataframe\">\n",
       "  <thead>\n",
       "    <tr style=\"text-align: right;\">\n",
       "      <th></th>\n",
       "      <th>is_duplicate</th>\n",
       "    </tr>\n",
       "    <tr>\n",
       "      <th>pair_id</th>\n",
       "      <th></th>\n",
       "    </tr>\n",
       "  </thead>\n",
       "  <tbody>\n",
       "    <tr>\n",
       "      <th>1</th>\n",
       "      <td>1</td>\n",
       "    </tr>\n",
       "    <tr>\n",
       "      <th>2</th>\n",
       "      <td>1</td>\n",
       "    </tr>\n",
       "    <tr>\n",
       "      <th>3</th>\n",
       "      <td>1</td>\n",
       "    </tr>\n",
       "    <tr>\n",
       "      <th>4</th>\n",
       "      <td>1</td>\n",
       "    </tr>\n",
       "    <tr>\n",
       "      <th>5</th>\n",
       "      <td>1</td>\n",
       "    </tr>\n",
       "    <tr>\n",
       "      <th>...</th>\n",
       "      <td>...</td>\n",
       "    </tr>\n",
       "    <tr>\n",
       "      <th>213245</th>\n",
       "      <td>1</td>\n",
       "    </tr>\n",
       "    <tr>\n",
       "      <th>213246</th>\n",
       "      <td>1</td>\n",
       "    </tr>\n",
       "    <tr>\n",
       "      <th>213247</th>\n",
       "      <td>1</td>\n",
       "    </tr>\n",
       "    <tr>\n",
       "      <th>213248</th>\n",
       "      <td>1</td>\n",
       "    </tr>\n",
       "    <tr>\n",
       "      <th>213249</th>\n",
       "      <td>1</td>\n",
       "    </tr>\n",
       "  </tbody>\n",
       "</table>\n",
       "<p>213249 rows × 1 columns</p>\n",
       "</div>"
      ],
      "text/plain": [
       "         is_duplicate\n",
       "pair_id              \n",
       "1                   1\n",
       "2                   1\n",
       "3                   1\n",
       "4                   1\n",
       "5                   1\n",
       "...               ...\n",
       "213245              1\n",
       "213246              1\n",
       "213247              1\n",
       "213248              1\n",
       "213249              1\n",
       "\n",
       "[213249 rows x 1 columns]"
      ]
     },
     "execution_count": 44,
     "metadata": {},
     "output_type": "execute_result"
    }
   ],
   "source": [
    "sample_sub"
   ]
  },
  {
   "cell_type": "code",
   "execution_count": 45,
   "metadata": {},
   "outputs": [],
   "source": [
    "sample_sub[\"is_duplicate\"] = (model.predict_proba(test[FTS].values)[:, 1] > THR).astype(np.int)"
   ]
  },
  {
   "cell_type": "code",
   "execution_count": 46,
   "metadata": {},
   "outputs": [
    {
     "data": {
      "text/plain": [
       "0    211601\n",
       "1      1648\n",
       "Name: is_duplicate, dtype: int64"
      ]
     },
     "execution_count": 46,
     "metadata": {},
     "output_type": "execute_result"
    }
   ],
   "source": [
    "sample_sub.is_duplicate.value_counts()"
   ]
  },
  {
   "cell_type": "code",
   "execution_count": 47,
   "metadata": {},
   "outputs": [],
   "source": [
    "sample_sub.to_csv(\n",
    "    DATA_DIR.joinpath(\"baseline_submission.csv.gz\"), compression='infer')"
   ]
  },
  {
   "cell_type": "code",
   "execution_count": null,
   "metadata": {},
   "outputs": [],
   "source": []
  }
 ],
 "metadata": {
  "kernelspec": {
   "display_name": "Python 3",
   "language": "python",
   "name": "python3"
  },
  "language_info": {
   "codemirror_mode": {
    "name": "ipython",
    "version": 3
   },
   "file_extension": ".py",
   "mimetype": "text/x-python",
   "name": "python",
   "nbconvert_exporter": "python",
   "pygments_lexer": "ipython3",
   "version": "3.6.8"
  }
 },
 "nbformat": 4,
 "nbformat_minor": 4
}
